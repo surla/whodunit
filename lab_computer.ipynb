{
 "cells": [
  {
   "cell_type": "markdown",
   "metadata": {},
   "source": [
    "# Welcome to the Police Station Lab Computer\n",
    "\n",
    "Let's use the computer, and the data it contains, to see if we can't crack this mystery."
   ]
  },
  {
   "cell_type": "markdown",
   "metadata": {},
   "source": [
    "## First Visit"
   ]
  },
  {
   "cell_type": "markdown",
   "metadata": {},
   "source": [
    "### Gathering Information on Addresses to interview the person who left before the gunshots were heard!\n",
    "\n",
    "First thing to do, is load up the people `.csv` - we'll notice that it's separated by tabs (`\\t`) and there's some comments (`#`), so let's take those into consideration. \n",
    "\n",
    "Then, let's look at the `.head()`!"
   ]
  },
  {
   "cell_type": "code",
   "execution_count": 1,
   "metadata": {},
   "outputs": [
    {
     "data": {
      "text/html": [
       "<div>\n",
       "<style scoped>\n",
       "    .dataframe tbody tr th:only-of-type {\n",
       "        vertical-align: middle;\n",
       "    }\n",
       "\n",
       "    .dataframe tbody tr th {\n",
       "        vertical-align: top;\n",
       "    }\n",
       "\n",
       "    .dataframe thead th {\n",
       "        text-align: right;\n",
       "    }\n",
       "</style>\n",
       "<table border=\"1\" class=\"dataframe\">\n",
       "  <thead>\n",
       "    <tr style=\"text-align: right;\">\n",
       "      <th></th>\n",
       "      <th>name</th>\n",
       "      <th>gender</th>\n",
       "      <th>age</th>\n",
       "      <th>address</th>\n",
       "    </tr>\n",
       "  </thead>\n",
       "  <tbody>\n",
       "    <tr>\n",
       "      <th>0</th>\n",
       "      <td>Alicia Fuentes</td>\n",
       "      <td>F</td>\n",
       "      <td>48</td>\n",
       "      <td>Walton Street, line 433</td>\n",
       "    </tr>\n",
       "    <tr>\n",
       "      <th>1</th>\n",
       "      <td>Jo-Ting Losev</td>\n",
       "      <td>F</td>\n",
       "      <td>46</td>\n",
       "      <td>Hemenway Street, line 390</td>\n",
       "    </tr>\n",
       "    <tr>\n",
       "      <th>2</th>\n",
       "      <td>Elena Edmonds</td>\n",
       "      <td>F</td>\n",
       "      <td>58</td>\n",
       "      <td>Elmwood Avenue, line 123</td>\n",
       "    </tr>\n",
       "    <tr>\n",
       "      <th>3</th>\n",
       "      <td>Naydene Cabral</td>\n",
       "      <td>F</td>\n",
       "      <td>46</td>\n",
       "      <td>Winthrop Street, line 454</td>\n",
       "    </tr>\n",
       "    <tr>\n",
       "      <th>4</th>\n",
       "      <td>Dato Rosengren</td>\n",
       "      <td>M</td>\n",
       "      <td>22</td>\n",
       "      <td>Mystic Street, line 477</td>\n",
       "    </tr>\n",
       "  </tbody>\n",
       "</table>\n",
       "</div>"
      ],
      "text/plain": [
       "             name gender  age                    address\n",
       "0  Alicia Fuentes      F   48    Walton Street, line 433\n",
       "1   Jo-Ting Losev      F   46  Hemenway Street, line 390\n",
       "2   Elena Edmonds      F   58   Elmwood Avenue, line 123\n",
       "3  Naydene Cabral      F   46  Winthrop Street, line 454\n",
       "4  Dato Rosengren      M   22    Mystic Street, line 477"
      ]
     },
     "execution_count": 1,
     "metadata": {},
     "output_type": "execute_result"
    }
   ],
   "source": [
    "import pandas as pd\n",
    "\n",
    "people_dataframe = pd.read_csv('./data/people/people.csv', comment='#', sep='\\t')\n",
    "people_dataframe.head()"
   ]
  },
  {
   "cell_type": "markdown",
   "metadata": {},
   "source": [
    "Let's use some indexing to find out if we can narrow this list down!"
   ]
  },
  {
   "cell_type": "code",
   "execution_count": 2,
   "metadata": {},
   "outputs": [
    {
     "data": {
      "text/html": [
       "<div>\n",
       "<style scoped>\n",
       "    .dataframe tbody tr th:only-of-type {\n",
       "        vertical-align: middle;\n",
       "    }\n",
       "\n",
       "    .dataframe tbody tr th {\n",
       "        vertical-align: top;\n",
       "    }\n",
       "\n",
       "    .dataframe thead th {\n",
       "        text-align: right;\n",
       "    }\n",
       "</style>\n",
       "<table border=\"1\" class=\"dataframe\">\n",
       "  <thead>\n",
       "    <tr style=\"text-align: right;\">\n",
       "      <th></th>\n",
       "      <th>name</th>\n",
       "      <th>gender</th>\n",
       "      <th>age</th>\n",
       "      <th>address</th>\n",
       "    </tr>\n",
       "  </thead>\n",
       "  <tbody>\n",
       "    <tr>\n",
       "      <th>269</th>\n",
       "      <td>Annabel Sun</td>\n",
       "      <td>F</td>\n",
       "      <td>26</td>\n",
       "      <td>Hart Place, line 40</td>\n",
       "    </tr>\n",
       "    <tr>\n",
       "      <th>1661</th>\n",
       "      <td>Annabel Church</td>\n",
       "      <td>F</td>\n",
       "      <td>38</td>\n",
       "      <td>Buckingham Place, line 179</td>\n",
       "    </tr>\n",
       "  </tbody>\n",
       "</table>\n",
       "</div>"
      ],
      "text/plain": [
       "                name gender  age                     address\n",
       "269      Annabel Sun      F   26         Hart Place, line 40\n",
       "1661  Annabel Church      F   38  Buckingham Place, line 179"
      ]
     },
     "execution_count": 2,
     "metadata": {},
     "output_type": "execute_result"
    }
   ],
   "source": [
    "### START CODE HERE ###\n",
    "\n",
    "# be sure to include the information in the format provided from the DataFrame above!\n",
    "potential_interviewees = people_dataframe[(people_dataframe['name'].str.contains('Annabel')) & (people_dataframe['gender'] == 'F')]\n",
    "\n",
    "### END CODE HERE ###\n",
    "\n",
    "potential_interviewees.head()"
   ]
  },
  {
   "cell_type": "markdown",
   "metadata": {},
   "source": [
    "### Time for more investigation!\n",
    "\n",
    "You'll need to hit the streets before you can pull up any relevant interviews, come back when you've knocked on the doors on the addresses you found!"
   ]
  },
  {
   "cell_type": "markdown",
   "metadata": {},
   "source": [
    "## Second Visit"
   ]
  },
  {
   "cell_type": "markdown",
   "metadata": {},
   "source": [
    "### Checking out the interviews\n",
    "\n",
    "Now that you have the interviews you want to check out, let's see what they say!\n",
    "\n",
    "We'll use the `glob`, and `os` standard library to collect all the data together into a usable format"
   ]
  },
  {
   "cell_type": "code",
   "execution_count": 3,
   "metadata": {},
   "outputs": [],
   "source": [
    "import os \n",
    "import glob\n",
    "\n",
    "files = os.path.join('./data/interviews/', '*')\n",
    "files = glob.glob(files)"
   ]
  },
  {
   "cell_type": "markdown",
   "metadata": {},
   "source": [
    "Now that we've collected the files neatly, let's comb through them looking for the interviews we want to check!"
   ]
  },
  {
   "cell_type": "code",
   "execution_count": 4,
   "metadata": {},
   "outputs": [
    {
     "name": "stdout",
     "output_type": "stream",
     "text": [
      "---- Interview # 699607 ----\n",
      "Interviewed Ms. Church at 2:04 pm.  Witness stated that she did not see anyone she could identify as the shooter, that she ran away as soon as the shots were fired.\n",
      "\n",
      "However, she reports seeing the car that fled the scene.  Describes it as a blue Honda, with a license plate that starts with \"L337\" and ends with \"9\"\n",
      "\n",
      "\n",
      "\n",
      "---- Interview # 47246024 ----\n",
      "Ms. Sun has brown hair and is not from New Zealand.  Not the witness from the cafe.\n",
      "\n",
      "\n",
      "\n"
     ]
    }
   ],
   "source": [
    "### START CODE HERE ###\n",
    "\n",
    "interview_nums = [\n",
    "    \"699607\",\n",
    "    \"47246024\"\n",
    "]\n",
    "\n",
    "### END CODE HERE ###\n",
    "\n",
    "for file in files:\n",
    "    if file.split('-')[1] in interview_nums:\n",
    "        with open(file, 'r') as f:\n",
    "            print(f'---- Interview # {file.split(\"-\")[1]} ----')\n",
    "            print(f.read())\n",
    "            print('\\n')"
   ]
  },
  {
   "cell_type": "markdown",
   "metadata": {},
   "source": [
    "Let's take note of that information, and check the vehicle database to see if we can find a suspect!"
   ]
  },
  {
   "cell_type": "markdown",
   "metadata": {},
   "source": [
    "### Checking the Vehicle Database\n",
    "\n",
    "Now that we have some more information, we should be able to put the facts we've figured out thusfar together to get a suspect!\n",
    "\n",
    "Let's start by looking through the vehicle data!"
   ]
  },
  {
   "cell_type": "code",
   "execution_count": 5,
   "metadata": {},
   "outputs": [
    {
     "data": {
      "text/html": [
       "<div>\n",
       "<style scoped>\n",
       "    .dataframe tbody tr th:only-of-type {\n",
       "        vertical-align: middle;\n",
       "    }\n",
       "\n",
       "    .dataframe tbody tr th {\n",
       "        vertical-align: top;\n",
       "    }\n",
       "\n",
       "    .dataframe thead th {\n",
       "        text-align: right;\n",
       "    }\n",
       "</style>\n",
       "<table border=\"1\" class=\"dataframe\">\n",
       "  <thead>\n",
       "    <tr style=\"text-align: right;\">\n",
       "      <th></th>\n",
       "      <th>License Plate</th>\n",
       "      <th>Make</th>\n",
       "      <th>Color</th>\n",
       "      <th>Owner</th>\n",
       "      <th>Owner Height</th>\n",
       "      <th>Owner Weight (lbs.)</th>\n",
       "    </tr>\n",
       "  </thead>\n",
       "  <tbody>\n",
       "    <tr>\n",
       "      <th>0</th>\n",
       "      <td>T3YUHF6</td>\n",
       "      <td>Toyota</td>\n",
       "      <td>Yellow</td>\n",
       "      <td>Jianbo Megannem</td>\n",
       "      <td>5'6\"</td>\n",
       "      <td>246</td>\n",
       "    </tr>\n",
       "    <tr>\n",
       "      <th>1</th>\n",
       "      <td>EZ21ECE</td>\n",
       "      <td>BMW</td>\n",
       "      <td>Gold</td>\n",
       "      <td>Norbert Feldwehr</td>\n",
       "      <td>5'3\"</td>\n",
       "      <td>205</td>\n",
       "    </tr>\n",
       "    <tr>\n",
       "      <th>2</th>\n",
       "      <td>CQN2TJE</td>\n",
       "      <td>Mazda</td>\n",
       "      <td>Red</td>\n",
       "      <td>Alexandra Jokinen</td>\n",
       "      <td>5'11\"</td>\n",
       "      <td>227</td>\n",
       "    </tr>\n",
       "    <tr>\n",
       "      <th>3</th>\n",
       "      <td>D875IMS</td>\n",
       "      <td>Cadillac</td>\n",
       "      <td>Orange</td>\n",
       "      <td>Thi Kostadinov</td>\n",
       "      <td>5'11\"</td>\n",
       "      <td>198</td>\n",
       "    </tr>\n",
       "    <tr>\n",
       "      <th>4</th>\n",
       "      <td>Q0SK1KP</td>\n",
       "      <td>Cadillac</td>\n",
       "      <td>Red</td>\n",
       "      <td>Sidni Sze</td>\n",
       "      <td>5'9\"</td>\n",
       "      <td>199</td>\n",
       "    </tr>\n",
       "  </tbody>\n",
       "</table>\n",
       "</div>"
      ],
      "text/plain": [
       "  License Plate      Make   Color              Owner Owner Height  \\\n",
       "0       T3YUHF6    Toyota  Yellow    Jianbo Megannem         5'6\"   \n",
       "1       EZ21ECE       BMW    Gold   Norbert Feldwehr         5'3\"   \n",
       "2       CQN2TJE     Mazda     Red  Alexandra Jokinen        5'11\"   \n",
       "3       D875IMS  Cadillac  Orange     Thi Kostadinov        5'11\"   \n",
       "4       Q0SK1KP  Cadillac     Red          Sidni Sze         5'9\"   \n",
       "\n",
       "   Owner Weight (lbs.)  \n",
       "0                  246  \n",
       "1                  205  \n",
       "2                  227  \n",
       "3                  198  \n",
       "4                  199  "
      ]
     },
     "execution_count": 5,
     "metadata": {},
     "output_type": "execute_result"
    }
   ],
   "source": [
    "### START CODE HERE ###\n",
    "\n",
    "vehicle_dataframe = pd.read_csv('data/vehicles/vehicles.csv', index_col=0)\n",
    "\n",
    "### END CODE HERE ###\n",
    "\n",
    "vehicle_dataframe.head()"
   ]
  },
  {
   "cell_type": "markdown",
   "metadata": {},
   "source": [
    "We know the make and colour the suspect drove while leaving Pandas Express, thanks to the interview, and we also know the suspects height! We also know some information about the suspects license plate! \n",
    "\n",
    "Let's combine all this information and see what we can learn!"
   ]
  },
  {
   "cell_type": "code",
   "execution_count": 6,
   "metadata": {},
   "outputs": [
    {
     "data": {
      "text/html": [
       "<div>\n",
       "<style scoped>\n",
       "    .dataframe tbody tr th:only-of-type {\n",
       "        vertical-align: middle;\n",
       "    }\n",
       "\n",
       "    .dataframe tbody tr th {\n",
       "        vertical-align: top;\n",
       "    }\n",
       "\n",
       "    .dataframe thead th {\n",
       "        text-align: right;\n",
       "    }\n",
       "</style>\n",
       "<table border=\"1\" class=\"dataframe\">\n",
       "  <thead>\n",
       "    <tr style=\"text-align: right;\">\n",
       "      <th></th>\n",
       "      <th>License Plate</th>\n",
       "      <th>Make</th>\n",
       "      <th>Color</th>\n",
       "      <th>Owner</th>\n",
       "      <th>Owner Height</th>\n",
       "      <th>Owner Weight (lbs.)</th>\n",
       "    </tr>\n",
       "  </thead>\n",
       "  <tbody>\n",
       "    <tr>\n",
       "      <th>1023</th>\n",
       "      <td>L337QE9</td>\n",
       "      <td>Honda</td>\n",
       "      <td>Blue</td>\n",
       "      <td>Erika Owens</td>\n",
       "      <td>6'5\"</td>\n",
       "      <td>220</td>\n",
       "    </tr>\n",
       "    <tr>\n",
       "      <th>3547</th>\n",
       "      <td>L337DV9</td>\n",
       "      <td>Honda</td>\n",
       "      <td>Blue</td>\n",
       "      <td>Joe Germuska</td>\n",
       "      <td>6'2\"</td>\n",
       "      <td>164</td>\n",
       "    </tr>\n",
       "    <tr>\n",
       "      <th>4546</th>\n",
       "      <td>L3375A9</td>\n",
       "      <td>Honda</td>\n",
       "      <td>Blue</td>\n",
       "      <td>Jeremy Bowers</td>\n",
       "      <td>6'1\"</td>\n",
       "      <td>204</td>\n",
       "    </tr>\n",
       "    <tr>\n",
       "      <th>4901</th>\n",
       "      <td>L337WR9</td>\n",
       "      <td>Honda</td>\n",
       "      <td>Blue</td>\n",
       "      <td>Jacqui Maher</td>\n",
       "      <td>6'2\"</td>\n",
       "      <td>130</td>\n",
       "    </tr>\n",
       "  </tbody>\n",
       "</table>\n",
       "</div>"
      ],
      "text/plain": [
       "     License Plate   Make Color          Owner Owner Height  \\\n",
       "1023       L337QE9  Honda  Blue    Erika Owens         6'5\"   \n",
       "3547       L337DV9  Honda  Blue   Joe Germuska         6'2\"   \n",
       "4546       L3375A9  Honda  Blue  Jeremy Bowers         6'1\"   \n",
       "4901       L337WR9  Honda  Blue   Jacqui Maher         6'2\"   \n",
       "\n",
       "      Owner Weight (lbs.)  \n",
       "1023                  220  \n",
       "3547                  164  \n",
       "4546                  204  \n",
       "4901                  130  "
      ]
     },
     "execution_count": 6,
     "metadata": {},
     "output_type": "execute_result"
    }
   ],
   "source": [
    "### START CODE HERE ###\n",
    "\n",
    "# be sure to include the information in the format provided from the DataFrame above!\n",
    "vehicle_suspects_dataframe = vehicle_dataframe[\n",
    "    (vehicle_dataframe['Make'] == 'Honda') & \n",
    "    (vehicle_dataframe['Color'] == 'Blue') & \n",
    "    (vehicle_dataframe['License Plate'].str.startswith('L337')) &\n",
    "    (vehicle_dataframe['License Plate'].str.endswith('9')) &\n",
    "    (vehicle_dataframe['Owner Height'].str.startswith('6'))\n",
    "]\n",
    "\n",
    "### END CODE HERE ###\n",
    "\n",
    "vehicle_suspects_dataframe.head()"
   ]
  },
  {
   "cell_type": "markdown",
   "metadata": {},
   "source": [
    "There we have it, a narrowed list of names - let's see if we can fit the final clue into the picture in order to wrap this case up!"
   ]
  },
  {
   "cell_type": "markdown",
   "metadata": {},
   "source": [
    "### Gathering Information on Memberships\n",
    "\n",
    "We have data from the following memberships on file:\n",
    "\n",
    "1. `AAA`\n",
    "2. `AAdvantage`\n",
    "3. `Costco`\n",
    "4. `Delta_SkyMiles`\n",
    "5. `Fitness_Galaxy`\n",
    "6. `Museum_of_Bash_History`\n",
    "7. `REI`\n",
    "8. `Rotary_Club`\n",
    "9. `TCSU_Alumni_Association`\n",
    "10. `Terminal_City_Library`\n",
    "11. `United_MileagePlus`\n",
    "\n",
    "From the evidence collected, input the memberships that the suspect held."
   ]
  },
  {
   "cell_type": "code",
   "execution_count": 7,
   "metadata": {},
   "outputs": [],
   "source": [
    "### START CODE HERE ###\n",
    "\n",
    "# Be sure to include all of the suspects memberships in the format provided above!\n",
    "memberships = [\n",
    "    \"AAA\",\n",
    "    \"Delta_SkyMiles\",\n",
    "    \"Terminal_City_Library\",\n",
    "    \"Museum_of_Bash_History\"\n",
    "]\n",
    "\n",
    "### END CODE HERE ###\n",
    "\n",
    "memberships = list(map(lambda x: f\"{x}.csv\", memberships))"
   ]
  },
  {
   "cell_type": "markdown",
   "metadata": {},
   "source": [
    "We're going to be using a combination of `glob` and `os` again! Because those libraries should already be imported, we doon't need to import them again!"
   ]
  },
  {
   "cell_type": "code",
   "execution_count": 8,
   "metadata": {},
   "outputs": [
    {
     "name": "stdout",
     "output_type": "stream",
     "text": [
      "['./data/memberships/AAdvantage.csv', './data/memberships/Museum_of_Bash_History.csv', './data/memberships/Costco.csv', './data/memberships/AAA.csv', './data/memberships/United_MileagePlus.csv', './data/memberships/Terminal_City_Library.csv', './data/memberships/REI.csv', './data/memberships/TCSU_Alumni_Association.csv', './data/memberships/Rotary_Club.csv', './data/memberships/Fitness_Galaxy.csv', './data/memberships/Delta_SkyMiles.csv']\n"
     ]
    }
   ],
   "source": [
    "files = os.path.join('./data/memberships/', '*.csv')\n",
    "files = glob.glob(files)\n",
    "print(files)"
   ]
  },
  {
   "cell_type": "markdown",
   "metadata": {},
   "source": [
    "Next we'll combine these `.csv` files together into a list of `pandas.DataFrame`s (read more about those [here](https://pandas.pydata.org/docs/reference/api/pandas.DataFrame.html))"
   ]
  },
  {
   "cell_type": "code",
   "execution_count": 9,
   "metadata": {},
   "outputs": [],
   "source": [
    "membership_dataframe_list = [pd.read_csv(file) for file in files if file.endswith(tuple(memberships))]"
   ]
  },
  {
   "cell_type": "markdown",
   "metadata": {},
   "source": [
    "Now, we'll find the intersection of the memberships using `pandas.merge` (read about it [here](https://pandas.pydata.org/docs/reference/api/pandas.merge.html)) on the list of dataframes.\n",
    "\n",
    "We're using `reduce` from functools (read about it [here](https://www.geeksforgeeks.org/reduce-in-python/)) to perform the `pandas.merge` operation on a number of `pandas.DataFrame`s."
   ]
  },
  {
   "cell_type": "code",
   "execution_count": 10,
   "metadata": {},
   "outputs": [],
   "source": [
    "from functools import reduce\n",
    "\n",
    "membership_suspects_dataframe = reduce(lambda x, y: pd.merge(x, y, how='inner'), membership_dataframe_list)"
   ]
  },
  {
   "cell_type": "markdown",
   "metadata": {},
   "source": [
    "### Putting it all together\n",
    "\n",
    "Alright, now that we have our vehicle suspects, our membership suspects, as well as the database of people - let's put this all together and see what we can find!\n",
    "\n",
    "First step is to merge the two suspect lists to narrow it down."
   ]
  },
  {
   "cell_type": "code",
   "execution_count": 11,
   "metadata": {},
   "outputs": [
    {
     "data": {
      "text/html": [
       "<div>\n",
       "<style scoped>\n",
       "    .dataframe tbody tr th:only-of-type {\n",
       "        vertical-align: middle;\n",
       "    }\n",
       "\n",
       "    .dataframe tbody tr th {\n",
       "        vertical-align: top;\n",
       "    }\n",
       "\n",
       "    .dataframe thead th {\n",
       "        text-align: right;\n",
       "    }\n",
       "</style>\n",
       "<table border=\"1\" class=\"dataframe\">\n",
       "  <thead>\n",
       "    <tr style=\"text-align: right;\">\n",
       "      <th></th>\n",
       "      <th>License Plate</th>\n",
       "      <th>Make</th>\n",
       "      <th>Color</th>\n",
       "      <th>Owner</th>\n",
       "      <th>Owner Height</th>\n",
       "      <th>Owner Weight (lbs.)</th>\n",
       "      <th>names</th>\n",
       "    </tr>\n",
       "  </thead>\n",
       "  <tbody>\n",
       "    <tr>\n",
       "      <th>0</th>\n",
       "      <td>L3375A9</td>\n",
       "      <td>Honda</td>\n",
       "      <td>Blue</td>\n",
       "      <td>Jeremy Bowers</td>\n",
       "      <td>6'1\"</td>\n",
       "      <td>204</td>\n",
       "      <td>Jeremy Bowers</td>\n",
       "    </tr>\n",
       "    <tr>\n",
       "      <th>1</th>\n",
       "      <td>L337WR9</td>\n",
       "      <td>Honda</td>\n",
       "      <td>Blue</td>\n",
       "      <td>Jacqui Maher</td>\n",
       "      <td>6'2\"</td>\n",
       "      <td>130</td>\n",
       "      <td>Jacqui Maher</td>\n",
       "    </tr>\n",
       "  </tbody>\n",
       "</table>\n",
       "</div>"
      ],
      "text/plain": [
       "  License Plate   Make Color          Owner Owner Height  Owner Weight (lbs.)  \\\n",
       "0       L3375A9  Honda  Blue  Jeremy Bowers         6'1\"                  204   \n",
       "1       L337WR9  Honda  Blue   Jacqui Maher         6'2\"                  130   \n",
       "\n",
       "           names  \n",
       "0  Jeremy Bowers  \n",
       "1   Jacqui Maher  "
      ]
     },
     "execution_count": 11,
     "metadata": {},
     "output_type": "execute_result"
    }
   ],
   "source": [
    "merged_suspect_dataframe = pd.merge(vehicle_suspects_dataframe, membership_suspects_dataframe, left_on='Owner', right_on='names')\n",
    "merged_suspect_dataframe.head()"
   ]
  },
  {
   "cell_type": "markdown",
   "metadata": {},
   "source": [
    "Gah! We have two suspects, let's check `people_dataframe` and see if there's anyway we can decide! \n",
    "\n",
    "HINT: Look at the new columns added as a result of the merge and remember what we know about our suspect!"
   ]
  },
  {
   "cell_type": "code",
   "execution_count": 12,
   "metadata": {},
   "outputs": [
    {
     "data": {
      "text/html": [
       "<div>\n",
       "<style scoped>\n",
       "    .dataframe tbody tr th:only-of-type {\n",
       "        vertical-align: middle;\n",
       "    }\n",
       "\n",
       "    .dataframe tbody tr th {\n",
       "        vertical-align: top;\n",
       "    }\n",
       "\n",
       "    .dataframe thead th {\n",
       "        text-align: right;\n",
       "    }\n",
       "</style>\n",
       "<table border=\"1\" class=\"dataframe\">\n",
       "  <thead>\n",
       "    <tr style=\"text-align: right;\">\n",
       "      <th></th>\n",
       "      <th>License Plate</th>\n",
       "      <th>Make</th>\n",
       "      <th>Color</th>\n",
       "      <th>Owner</th>\n",
       "      <th>Owner Height</th>\n",
       "      <th>Owner Weight (lbs.)</th>\n",
       "      <th>names</th>\n",
       "      <th>name</th>\n",
       "      <th>gender</th>\n",
       "      <th>age</th>\n",
       "      <th>address</th>\n",
       "    </tr>\n",
       "  </thead>\n",
       "  <tbody>\n",
       "    <tr>\n",
       "      <th>0</th>\n",
       "      <td>L3375A9</td>\n",
       "      <td>Honda</td>\n",
       "      <td>Blue</td>\n",
       "      <td>Jeremy Bowers</td>\n",
       "      <td>6'1\"</td>\n",
       "      <td>204</td>\n",
       "      <td>Jeremy Bowers</td>\n",
       "      <td>Jeremy Bowers</td>\n",
       "      <td>M</td>\n",
       "      <td>34</td>\n",
       "      <td>Dunstable Road, line 284</td>\n",
       "    </tr>\n",
       "    <tr>\n",
       "      <th>1</th>\n",
       "      <td>L337WR9</td>\n",
       "      <td>Honda</td>\n",
       "      <td>Blue</td>\n",
       "      <td>Jacqui Maher</td>\n",
       "      <td>6'2\"</td>\n",
       "      <td>130</td>\n",
       "      <td>Jacqui Maher</td>\n",
       "      <td>Jacqui Maher</td>\n",
       "      <td>F</td>\n",
       "      <td>40</td>\n",
       "      <td>Andover Road, line 224</td>\n",
       "    </tr>\n",
       "  </tbody>\n",
       "</table>\n",
       "</div>"
      ],
      "text/plain": [
       "  License Plate   Make Color          Owner Owner Height  Owner Weight (lbs.)  \\\n",
       "0       L3375A9  Honda  Blue  Jeremy Bowers         6'1\"                  204   \n",
       "1       L337WR9  Honda  Blue   Jacqui Maher         6'2\"                  130   \n",
       "\n",
       "           names           name gender  age                   address  \n",
       "0  Jeremy Bowers  Jeremy Bowers      M   34  Dunstable Road, line 284  \n",
       "1   Jacqui Maher   Jacqui Maher      F   40    Andover Road, line 224  "
      ]
     },
     "execution_count": 12,
     "metadata": {},
     "output_type": "execute_result"
    }
   ],
   "source": [
    "final_merged_dataframe = pd.merge(merged_suspect_dataframe, people_dataframe, left_on=\"Owner\", right_on='name')\n",
    "final_merged_dataframe.head()"
   ]
  },
  {
   "cell_type": "markdown",
   "metadata": {},
   "source": [
    "HINT: Look at the new columns added as a result of the merge and remember what we know about our suspect! Pay close attention to the `gender` column!"
   ]
  },
  {
   "cell_type": "markdown",
   "metadata": {},
   "source": [
    "Now that we have our final suspect, let's see if it's correct!"
   ]
  },
  {
   "cell_type": "code",
   "execution_count": 14,
   "metadata": {},
   "outputs": [
    {
     "name": "stdout",
     "output_type": "stream",
     "text": [
      "Congrats! You have officially solved the crime at the Pandas Express! Thanks for participating!\n",
      "And now that you've completed your ML software development onramp, tell the world that you're ready to begin your journey! \n",
      "\n",
      "---------------------------------------- Post Template 1 (MLE) ----------------------------------------------------\n",
      "I just completed the #ml software development onramp from @FourthBrain and solved a #whodunit mystery!\n",
      "Now I'm ready to take my #ml career to the next level with an industry-standard tool stack, including the Unix Command Line, Git, Conda, Pip, and of course, Jupyter Notebooks!\n",
      "#machinelearningengineering #mle #buildinpublic\n",
      "--------------------------------------------------------------------------------------------------------------------- \n",
      "\n",
      "\n",
      "\n",
      "---------------------------------------- Post Template 2 (MLOps) ----------------------------------------------------\n",
      "I just completed the #ml software development onramp from @FourthBrain and solved a #whodunit mystery!\n",
      "Now I’m ready to take my #ml career to the next level with an industry-standard tool stack including the Unix Command Line, Git, Conda, Pip, and Jupyter Notebooks, optimized for agile development in VSCode.\n",
      "#machinelearningoperations #mlops #buildinpublic\n",
      "---------------------------------------------------------------------------------------------------------------------\n",
      "\n",
      "\n",
      "As a bonus - Please checkout the main branch and execute this command in your command line: `git cat-file -p cefafaedfff0fc1e3495252571f48bf7b0d93673`\n"
     ]
    }
   ],
   "source": [
    "from helper_functions.check_name import check_name\n",
    "\n",
    "check_name('Jeremy Bowers')"
   ]
  }
 ],
 "metadata": {
  "kernelspec": {
   "display_name": "Python 3 (ipykernel)",
   "language": "python",
   "name": "python3"
  },
  "language_info": {
   "codemirror_mode": {
    "name": "ipython",
    "version": 3
   },
   "file_extension": ".py",
   "mimetype": "text/x-python",
   "name": "python",
   "nbconvert_exporter": "python",
   "pygments_lexer": "ipython3",
   "version": "3.9.12"
  },
  "vscode": {
   "interpreter": {
    "hash": "635e31ff34c0350df6e9d804eda70786d94f48b17fcc73c378df4ea6ec0d01fd"
   }
  }
 },
 "nbformat": 4,
 "nbformat_minor": 2
}
